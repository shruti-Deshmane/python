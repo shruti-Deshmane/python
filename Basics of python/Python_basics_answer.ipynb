{
 "cells": [
  {
   "cell_type": "markdown",
   "id": "e0d1e482-4c37-457d-875b-ba046b435a75",
   "metadata": {},
   "source": [
    "### Prime Number"
   ]
  },
  {
   "cell_type": "code",
   "execution_count": 1,
   "id": "cb5ef19f-3f50-42f0-b9d5-d1257e20a4e2",
   "metadata": {},
   "outputs": [
    {
     "name": "stdin",
     "output_type": "stream",
     "text": [
      "Enter a number:  5\n"
     ]
    },
    {
     "name": "stdout",
     "output_type": "stream",
     "text": [
      "Prime\n"
     ]
    }
   ],
   "source": [
    "n = int(input(\"Enter a number: \"))\n",
    "if n > 1:\n",
    "    for i in range(2, n):\n",
    "        if n % i == 0:\n",
    "            print(\"Not Prime\")\n",
    "            break\n",
    "    else:\n",
    "        print(\"Prime\")\n",
    "else:\n",
    "    print(\"Not Prime\")"
   ]
  },
  {
   "cell_type": "code",
   "execution_count": 2,
   "id": "81ba04a7-49f3-4f6e-8381-f48786c8384e",
   "metadata": {},
   "outputs": [
    {
     "name": "stdin",
     "output_type": "stream",
     "text": [
      "What is 1 * 4?  5\n"
     ]
    },
    {
     "name": "stdout",
     "output_type": "stream",
     "text": [
      "Wrong! Answer is 4\n"
     ]
    }
   ],
   "source": [
    "# Product of Random Numbers\n",
    "import random\n",
    "\n",
    "a = random.randint(1, 10)\n",
    "b = random.randint(1, 10)\n",
    "\n",
    "ans = int(input(f\"What is {a} * {b}? \"))\n",
    "\n",
    "if ans == a * b:\n",
    "    print(\"Correct!\")\n",
    "else:\n",
    "    print(\"Wrong! Answer is\", a * b)"
   ]
  },
  {
   "cell_type": "code",
   "execution_count": 4,
   "id": "4a8d57a4-87d8-4cc1-ac54-841055f8f2aa",
   "metadata": {},
   "outputs": [
    {
     "name": "stdout",
     "output_type": "stream",
     "text": [
      "10000\n",
      "10404\n",
      "10816\n",
      "11236\n",
      "11664\n",
      "12100\n",
      "12544\n",
      "12996\n",
      "13456\n",
      "13924\n",
      "14400\n",
      "14884\n",
      "15376\n",
      "15876\n",
      "16384\n",
      "16900\n",
      "17424\n",
      "17956\n",
      "18496\n",
      "19044\n",
      "19600\n",
      "20164\n",
      "20736\n",
      "21316\n",
      "21904\n",
      "22500\n",
      "23104\n",
      "23716\n",
      "24336\n",
      "24964\n",
      "25600\n",
      "26244\n",
      "26896\n",
      "27556\n",
      "28224\n",
      "28900\n",
      "29584\n",
      "30276\n",
      "30976\n",
      "31684\n",
      "32400\n",
      "33124\n",
      "33856\n",
      "34596\n",
      "35344\n",
      "36100\n",
      "36864\n",
      "37636\n",
      "38416\n",
      "39204\n",
      "40000\n"
     ]
    }
   ],
   "source": [
    "#Squares of Even Numbers\n",
    "\n",
    "for i in range(100, 201):\n",
    "    if i % 2 == 0:\n",
    "        print(i*i)"
   ]
  },
  {
   "cell_type": "code",
   "execution_count": 5,
   "id": "f18cb6f3-190e-432b-8871-3700bcc96a29",
   "metadata": {},
   "outputs": [
    {
     "name": "stdout",
     "output_type": "stream",
     "text": [
      "{'This': 2, 'is': 1, 'a': 1, 'sample': 1, 'text.': 1, 'text': 1, 'will': 1, 'be': 1, 'used': 1, 'to': 1, 'demonstrate': 1, 'the': 1, 'word': 1, 'counter.': 1}\n"
     ]
    }
   ],
   "source": [
    "# Word Counter\n",
    "\n",
    "text = \"This is a sample text. This text will be used to demonstrate the word counter.\"\n",
    "words = text.split()\n",
    "counts = {}\n",
    "\n",
    "for word in words:\n",
    "    if word in counts:\n",
    "        counts[word] += 1\n",
    "    else:\n",
    "        counts[word] = 1\n",
    "\n",
    "print(counts)"
   ]
  },
  {
   "cell_type": "code",
   "execution_count": 6,
   "id": "93fa2009-d47f-4ff5-a893-1d3769a26923",
   "metadata": {},
   "outputs": [
    {
     "name": "stdin",
     "output_type": "stream",
     "text": [
      "Enter a word:  mom\n"
     ]
    },
    {
     "name": "stdout",
     "output_type": "stream",
     "text": [
      "True\n"
     ]
    }
   ],
   "source": [
    "#Palindrome Check\n",
    "\n",
    "s = input(\"Enter a word: \")\n",
    "s = s.lower().replace(\" \", \"\")\n",
    "if s == s[::-1]:\n",
    "    print(\"True\")\n",
    "else:\n",
    "    print(\"False\")"
   ]
  },
  {
   "cell_type": "code",
   "execution_count": null,
   "id": "bad8b602-f074-4967-b4b9-04bafb1a8a7c",
   "metadata": {},
   "outputs": [],
   "source": []
  }
 ],
 "metadata": {
  "kernelspec": {
   "display_name": "Python 3 (ipykernel)",
   "language": "python",
   "name": "python3"
  },
  "language_info": {
   "codemirror_mode": {
    "name": "ipython",
    "version": 3
   },
   "file_extension": ".py",
   "mimetype": "text/x-python",
   "name": "python",
   "nbconvert_exporter": "python",
   "pygments_lexer": "ipython3",
   "version": "3.12.1"
  }
 },
 "nbformat": 4,
 "nbformat_minor": 5
}
